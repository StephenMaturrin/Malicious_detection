{
 "cells": [
  {
   "cell_type": "code",
   "execution_count": 51,
   "metadata": {
    "collapsed": true
   },
   "outputs": [],
   "source": [
    "__author__ = \"Miguel Solinas \"\n",
    "__credits__ = \"Miguel Solinas \"\n",
    "__version__ = \"0.1.0\"\n",
    "__maintainer__ = \"Miguel Solinas\"\n",
    "__status__ = \"Project\""
   ]
  },
  {
   "cell_type": "code",
   "execution_count": 52,
   "metadata": {
    "collapsed": true
   },
   "outputs": [],
   "source": [
    "#importing libraries\n",
    "import pandas as pd\n",
    "import numpy as np"
   ]
  },
  {
   "cell_type": "code",
   "execution_count": 53,
   "metadata": {},
   "outputs": [
    {
     "data": {
      "text/plain": [
       "type           int64\n",
       "time         float64\n",
       "sender         int64\n",
       "messageID      int64\n",
       "pos/0        float64\n",
       "pos/1        float64\n",
       "pos/2        float64\n",
       "spd/0        float64\n",
       "spd/1        float64\n",
       "classs         int64\n",
       "dtype: object"
      ]
     },
     "execution_count": 53,
     "metadata": {},
     "output_type": "execute_result"
    }
   ],
   "source": [
    "#open dataset\n",
    "file = pd.read_csv(\"balanced.csv\")\n",
    "dataset = pd.DataFrame(file)\n",
    "\n",
    "dataset.dtypes"
   ]
  },
  {
   "cell_type": "code",
   "execution_count": 54,
   "metadata": {},
   "outputs": [
    {
     "name": "stderr",
     "output_type": "stream",
     "text": [
      "C:\\Users\\Maturrin\\Anaconda3\\lib\\site-packages\\ipykernel_launcher.py:2: SettingWithCopyWarning: \n",
      "A value is trying to be set on a copy of a slice from a DataFrame\n",
      "\n",
      "See the caveats in the documentation: http://pandas.pydata.org/pandas-docs/stable/indexing.html#indexing-view-versus-copy\n",
      "  \n",
      "C:\\Users\\Maturrin\\Anaconda3\\lib\\site-packages\\ipykernel_launcher.py:3: SettingWithCopyWarning: \n",
      "A value is trying to be set on a copy of a slice from a DataFrame\n",
      "\n",
      "See the caveats in the documentation: http://pandas.pydata.org/pandas-docs/stable/indexing.html#indexing-view-versus-copy\n",
      "  This is separate from the ipykernel package so we can avoid doing imports until\n"
     ]
    },
    {
     "data": {
      "text/html": [
       "<div>\n",
       "<style>\n",
       "    .dataframe thead tr:only-child th {\n",
       "        text-align: right;\n",
       "    }\n",
       "\n",
       "    .dataframe thead th {\n",
       "        text-align: left;\n",
       "    }\n",
       "\n",
       "    .dataframe tbody tr th {\n",
       "        vertical-align: top;\n",
       "    }\n",
       "</style>\n",
       "<table border=\"1\" class=\"dataframe\">\n",
       "  <thead>\n",
       "    <tr style=\"text-align: right;\">\n",
       "      <th></th>\n",
       "      <th>type</th>\n",
       "      <th>time</th>\n",
       "      <th>sender</th>\n",
       "      <th>messageID</th>\n",
       "      <th>pos/0</th>\n",
       "      <th>pos/1</th>\n",
       "      <th>pos/2</th>\n",
       "      <th>spd/0</th>\n",
       "      <th>spd/1</th>\n",
       "      <th>classs</th>\n",
       "    </tr>\n",
       "  </thead>\n",
       "  <tbody>\n",
       "    <tr>\n",
       "      <th>count</th>\n",
       "      <td>4022.0</td>\n",
       "      <td>4022.000000</td>\n",
       "      <td>4022.000000</td>\n",
       "      <td>4022.000000</td>\n",
       "      <td>4022.000000</td>\n",
       "      <td>4022.000000</td>\n",
       "      <td>4.022000e+03</td>\n",
       "      <td>4.022000e+03</td>\n",
       "      <td>4022.000000</td>\n",
       "      <td>4022.000000</td>\n",
       "    </tr>\n",
       "    <tr>\n",
       "      <th>mean</th>\n",
       "      <td>4.0</td>\n",
       "      <td>18050.035089</td>\n",
       "      <td>236.767777</td>\n",
       "      <td>134710.081800</td>\n",
       "      <td>4720.934095</td>\n",
       "      <td>5570.697441</td>\n",
       "      <td>1.895000e+00</td>\n",
       "      <td>1.792124e+00</td>\n",
       "      <td>-1.065055</td>\n",
       "      <td>0.500249</td>\n",
       "    </tr>\n",
       "    <tr>\n",
       "      <th>std</th>\n",
       "      <td>0.0</td>\n",
       "      <td>28.799422</td>\n",
       "      <td>151.443348</td>\n",
       "      <td>75747.760579</td>\n",
       "      <td>1088.836688</td>\n",
       "      <td>258.273936</td>\n",
       "      <td>1.929808e-13</td>\n",
       "      <td>8.142110e+00</td>\n",
       "      <td>18.025064</td>\n",
       "      <td>0.500062</td>\n",
       "    </tr>\n",
       "    <tr>\n",
       "      <th>min</th>\n",
       "      <td>4.0</td>\n",
       "      <td>18000.006320</td>\n",
       "      <td>7.000000</td>\n",
       "      <td>153.000000</td>\n",
       "      <td>2331.525684</td>\n",
       "      <td>5180.414955</td>\n",
       "      <td>1.895000e+00</td>\n",
       "      <td>-1.712646e+01</td>\n",
       "      <td>-43.866935</td>\n",
       "      <td>0.000000</td>\n",
       "    </tr>\n",
       "    <tr>\n",
       "      <th>25%</th>\n",
       "      <td>4.0</td>\n",
       "      <td>18024.759383</td>\n",
       "      <td>103.000000</td>\n",
       "      <td>70581.500000</td>\n",
       "      <td>3614.049260</td>\n",
       "      <td>5313.817688</td>\n",
       "      <td>1.895000e+00</td>\n",
       "      <td>-1.812654e+00</td>\n",
       "      <td>-6.191218</td>\n",
       "      <td>0.000000</td>\n",
       "    </tr>\n",
       "    <tr>\n",
       "      <th>50%</th>\n",
       "      <td>4.0</td>\n",
       "      <td>18049.690630</td>\n",
       "      <td>217.000000</td>\n",
       "      <td>138139.000000</td>\n",
       "      <td>4430.766675</td>\n",
       "      <td>5563.903104</td>\n",
       "      <td>1.895000e+00</td>\n",
       "      <td>8.520000e-15</td>\n",
       "      <td>0.000000</td>\n",
       "      <td>1.000000</td>\n",
       "    </tr>\n",
       "    <tr>\n",
       "      <th>75%</th>\n",
       "      <td>4.0</td>\n",
       "      <td>18074.763837</td>\n",
       "      <td>361.000000</td>\n",
       "      <td>201741.750000</td>\n",
       "      <td>5933.080115</td>\n",
       "      <td>5778.448693</td>\n",
       "      <td>1.895000e+00</td>\n",
       "      <td>5.595826e+00</td>\n",
       "      <td>2.191666</td>\n",
       "      <td>1.000000</td>\n",
       "    </tr>\n",
       "    <tr>\n",
       "      <th>max</th>\n",
       "      <td>4.0</td>\n",
       "      <td>18099.972010</td>\n",
       "      <td>601.000000</td>\n",
       "      <td>260624.000000</td>\n",
       "      <td>6324.850321</td>\n",
       "      <td>6079.772349</td>\n",
       "      <td>1.895000e+00</td>\n",
       "      <td>3.686033e+01</td>\n",
       "      <td>41.421776</td>\n",
       "      <td>1.000000</td>\n",
       "    </tr>\n",
       "  </tbody>\n",
       "</table>\n",
       "</div>"
      ],
      "text/plain": [
       "         type          time       sender      messageID        pos/0  \\\n",
       "count  4022.0   4022.000000  4022.000000    4022.000000  4022.000000   \n",
       "mean      4.0  18050.035089   236.767777  134710.081800  4720.934095   \n",
       "std       0.0     28.799422   151.443348   75747.760579  1088.836688   \n",
       "min       4.0  18000.006320     7.000000     153.000000  2331.525684   \n",
       "25%       4.0  18024.759383   103.000000   70581.500000  3614.049260   \n",
       "50%       4.0  18049.690630   217.000000  138139.000000  4430.766675   \n",
       "75%       4.0  18074.763837   361.000000  201741.750000  5933.080115   \n",
       "max       4.0  18099.972010   601.000000  260624.000000  6324.850321   \n",
       "\n",
       "             pos/1         pos/2         spd/0        spd/1       classs  \n",
       "count  4022.000000  4.022000e+03  4.022000e+03  4022.000000  4022.000000  \n",
       "mean   5570.697441  1.895000e+00  1.792124e+00    -1.065055     0.500249  \n",
       "std     258.273936  1.929808e-13  8.142110e+00    18.025064     0.500062  \n",
       "min    5180.414955  1.895000e+00 -1.712646e+01   -43.866935     0.000000  \n",
       "25%    5313.817688  1.895000e+00 -1.812654e+00    -6.191218     0.000000  \n",
       "50%    5563.903104  1.895000e+00  8.520000e-15     0.000000     1.000000  \n",
       "75%    5778.448693  1.895000e+00  5.595826e+00     2.191666     1.000000  \n",
       "max    6079.772349  1.895000e+00  3.686033e+01    41.421776     1.000000  "
      ]
     },
     "execution_count": 54,
     "metadata": {},
     "output_type": "execute_result"
    }
   ],
   "source": [
    "\n",
    "dataset.classs[dataset.classs==1]=0\n",
    "dataset.classs[dataset.classs==5]=1\n",
    "dataset.to_csv(\"dataset.csv\")\n",
    "dataset.describe()"
   ]
  },
  {
   "cell_type": "code",
   "execution_count": 55,
   "metadata": {},
   "outputs": [
    {
     "name": "stdout",
     "output_type": "stream",
     "text": [
      " 1) Some of the featues do not deliver major information\n",
      "\n",
      " 2) The feature type is usefull, it contains just one value (4)\n",
      "\n",
      " 3) Pos/2 is not correlated to any feature and it does not change along the samples it is always close to one value\n",
      " \n",
      " 4) I can not ensure if there is a correlation between the feature class and the rest ot the features \n",
      "\n",
      " 5) Dataset not well balanced clas1 =  2010 class2 = 2012\n"
     ]
    },
    {
     "data": {
      "image/png": "[encoded data removed]",
      "text/plain": [
       "<matplotlib.figure.Figure at 0x11c0b8d0a58>"
      ]
     },
     "metadata": {},
     "output_type": "display_data"
    }
   ],
   "source": [
    "import seaborn as sns\n",
    "import matplotlib.pyplot as plt\n",
    "%matplotlib inline\n",
    "sns.set(style=\"white\")\n",
    "\n",
    "# Generate a large random dataset\n",
    "\n",
    "\n",
    "# Compute the correlation matrix\n",
    "corr = dataset.corr()\n",
    "\n",
    "# Generate a mask for the upper triangle\n",
    "mask = np.zeros_like(corr, dtype=np.bool)\n",
    "mask[np.triu_indices_from(mask)] = True\n",
    "\n",
    "# Set up the matplotlib figure\n",
    "f, ax = plt.subplots(figsize=(11, 9))\n",
    "\n",
    "# Generate a custom diverging colormap\n",
    "cmap = sns.diverging_palette(220, 10, as_cmap=True)\n",
    "\n",
    "# Draw the heatmap with the mask and correct aspect ratio\n",
    "sns.heatmap(corr, mask=mask, cmap=cmap, vmax=.3, center=0,\n",
    "            square=True, linewidths=.5, cbar_kws={\"shrink\": .5})\n",
    "\n",
    "\n",
    "\n",
    "\n",
    "print(\" 1) Some of the featues do not deliver major information\\n\") \n",
    "print(\" 2) The feature type is usefull, it contains just one value (4)\\n\")\n",
    "print(\" 3) Pos/2 is not correlated to any feature and it does not change along the samples it is always close to one value\\n \")\n",
    "print(\" 4) I can not ensure if there is a correlation between the feature class and the rest ot the features \\n\")\n",
    "print(\" 5) Dataset not well balanced clas1 = \", np.count_nonzero(dataset.classs==0), \"class2 =\",np.count_nonzero(dataset.classs==1))"
   ]
  },
  {
   "cell_type": "code",
   "execution_count": 56,
   "metadata": {},
   "outputs": [
    {
     "name": "stdout",
     "output_type": "stream",
     "text": [
      "Training samples  (3043, 10) \n",
      "Validation samples (320, 10) \n",
      "Testing samples (659, 10)\n"
     ]
    },
    {
     "name": "stderr",
     "output_type": "stream",
     "text": [
      "C:\\Users\\Maturrin\\Anaconda3\\lib\\site-packages\\tensorflow\\python\\client\\session.py:1702: UserWarning: An interactive session is already active. This can cause out-of-memory errors in some cases. You must explicitly call `InteractiveSession.close()` to release resources held by the other session(s).\n",
      "  warnings.warn('An interactive session is already active. This can '\n"
     ]
    },
    {
     "name": "stdout",
     "output_type": "stream",
     "text": [
      "num_epochs n° 0 accuracy VALIDATION 0.84210527\n",
      "num_epochs n° 0 accuracy TESTING 0.8597561\n",
      "Loss  3435.0203\n",
      "Loss  23.830288\n",
      "num_epochs n° 100 accuracy VALIDATION 0.4163272\n",
      "num_epochs n° 100 accuracy TESTING 0.40238327\n",
      "Loss  18.390287\n",
      "Loss  8.106061\n",
      "num_epochs n° 200 accuracy VALIDATION 0.84210527\n",
      "num_epochs n° 200 accuracy TESTING 0.8597561\n",
      "Loss  22.569082\n",
      "Loss  158.72023\n",
      "num_epochs n° 300 accuracy VALIDATION 0.84210527\n",
      "num_epochs n° 300 accuracy TESTING 0.85865927\n",
      "Loss  22.436306\n",
      "Loss  29.021854\n",
      "num_epochs n° 400 accuracy VALIDATION 0.84210527\n",
      "num_epochs n° 400 accuracy TESTING 0.8597561\n",
      "Loss  76.55388\n",
      "Loss  118.5726\n",
      "num_epochs n° 500 accuracy VALIDATION 0.84210527\n",
      "num_epochs n° 500 accuracy TESTING 0.8597561\n",
      "Loss  46.653275\n",
      "Loss  48.84092\n",
      "num_epochs n° 600 accuracy VALIDATION 0.66628647\n",
      "num_epochs n° 600 accuracy TESTING 0.69523346\n",
      "Loss  4.214674\n",
      "Loss  151.68037\n",
      "num_epochs n° 700 accuracy VALIDATION 0.53071535\n",
      "num_epochs n° 700 accuracy TESTING 0.55264723\n",
      "Loss  5.4359646\n",
      "Loss  44.504013\n",
      "num_epochs n° 800 accuracy VALIDATION 0.18119602\n",
      "num_epochs n° 800 accuracy TESTING 0.15450253\n",
      "Loss  113.29254\n",
      "Loss  16.047308\n",
      "num_epochs n° 900 accuracy VALIDATION 0.84210527\n",
      "num_epochs n° 900 accuracy TESTING 0.8597561\n",
      "Loss  73.776474\n",
      "Loss  20.483974\n"
     ]
    }
   ],
   "source": [
    "import dataset_setup as ds\n",
    "import model_nn as model\n",
    "import tensorflow as tf\n",
    "\n",
    "tf.reset_default_graph()\n",
    "features= [ 'type', 'sender', 'messageID', 'pos/2','spd/0', 'spd/1', 'pos/2']\n",
    "targets= ['classs']\n",
    "dataset = ds.dataset_setup(features,targets)\n",
    "dataset.input_data(\"balanced.csv\")\n",
    "new_model = model.model_nn( dataset, 1000, 128,0.001, [len(features),20,2])\n",
    "new_model.train()\n",
    "\n"
   ]
  },
  {
   "cell_type": "code",
   "execution_count": null,
   "metadata": {
    "collapsed": true
   },
   "outputs": [],
   "source": []
  },
  {
   "cell_type": "code",
   "execution_count": null,
   "metadata": {
    "collapsed": true
   },
   "outputs": [],
   "source": []
  }
 ],
 "metadata": {
  "kernelspec": {
   "display_name": "Python 3",
   "language": "python",
   "name": "python3"
  },
  "language_info": {
   "codemirror_mode": {
    "name": "ipython",
    "version": 3
   },
   "file_extension": ".py",
   "mimetype": "text/x-python",
   "name": "python",
   "nbconvert_exporter": "python",
   "pygments_lexer": "ipython3",
   "version": "3.6.4"
  }
 },
 "nbformat": 4,
 "nbformat_minor": 2
}
