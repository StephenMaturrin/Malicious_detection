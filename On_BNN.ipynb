{
 "cells": [
  {
   "cell_type": "code",
   "execution_count": 15,
   "metadata": {
    "collapsed": true
   },
   "outputs": [],
   "source": [
    "__author__ = \"Miguel Solinas \"\n",
    "__credits__ = \"Miguel Solinas \"\n",
    "__version__ = \"0.1.0\"\n",
    "__maintainer__ = \"Miguel Solinas\"\n",
    "__status__ = \"Project\""
   ]
  },
  {
   "cell_type": "code",
   "execution_count": 23,
   "metadata": {
    "collapsed": true
   },
   "outputs": [],
   "source": [
    "#importing libraries\n",
    "import pandas as pd\n",
    "import numpy as np"
   ]
  },
  {
   "cell_type": "code",
   "execution_count": 26,
   "metadata": {},
   "outputs": [
    {
     "data": {
      "text/plain": [
       "type           int64\n",
       "time         float64\n",
       "sender         int64\n",
       "messageID      int64\n",
       "pos/0        float64\n",
       "pos/1        float64\n",
       "pos/2        float64\n",
       "spd/0        float64\n",
       "spd/1        float64\n",
       "class          int64\n",
       "dtype: object"
      ]
     },
     "execution_count": 26,
     "metadata": {},
     "output_type": "execute_result"
    }
   ],
   "source": [
    "#open dataset\n",
    "file = pd.read_csv(\"balanced.csv\")\n",
    "dataset = pd.DataFrame(file)\n",
    "\n",
    "dataset.dtypes\n",
    "dataset."
   ]
  },
  {
   "cell_type": "code",
   "execution_count": 30,
   "metadata": {},
   "outputs": [
    {
     "ename": "SyntaxError",
     "evalue": "invalid syntax (<ipython-input-30-9c464430adc3>, line 1)",
     "traceback": [
      "\u001b[1;36m  File \u001b[1;32m\"<ipython-input-30-9c464430adc3>\"\u001b[1;36m, line \u001b[1;32m1\u001b[0m\n\u001b[1;33m    dataset.class\u001b[0m\n\u001b[1;37m                ^\u001b[0m\n\u001b[1;31mSyntaxError\u001b[0m\u001b[1;31m:\u001b[0m invalid syntax\n"
     ],
     "output_type": "error"
    }
   ],
   "source": [
    "dataset.class\n",
    "dataset.classs[dataset.class==1]=0\n",
    "dataset.classs[dataset.class==5]=1\n",
    "dataset.to_csv(\"dataset.csv\")\n",
    "dataset.describe()"
   ]
  },
  {
   "cell_type": "code",
   "execution_count": 14,
   "metadata": {},
   "outputs": [
    {
     "ename": "AttributeError",
     "evalue": "'dataset_setup' object has no attribute 'corr'",
     "traceback": [
      "\u001b[1;31m---------------------------------------------------------------------------\u001b[0m",
      "\u001b[1;31mAttributeError\u001b[0m                            Traceback (most recent call last)",
      "\u001b[1;32m<ipython-input-14-6eab6da3522f>\u001b[0m in \u001b[0;36m<module>\u001b[1;34m()\u001b[0m\n\u001b[0;32m      8\u001b[0m \u001b[1;33m\u001b[0m\u001b[0m\n\u001b[0;32m      9\u001b[0m \u001b[1;31m# Compute the correlation matrix\u001b[0m\u001b[1;33m\u001b[0m\u001b[1;33m\u001b[0m\u001b[0m\n\u001b[1;32m---> 10\u001b[1;33m \u001b[0mcorr\u001b[0m \u001b[1;33m=\u001b[0m \u001b[0mdataset\u001b[0m\u001b[1;33m.\u001b[0m\u001b[0mcorr\u001b[0m\u001b[1;33m(\u001b[0m\u001b[1;33m)\u001b[0m\u001b[1;33m\u001b[0m\u001b[0m\n\u001b[0m\u001b[0;32m     11\u001b[0m \u001b[1;33m\u001b[0m\u001b[0m\n\u001b[0;32m     12\u001b[0m \u001b[1;31m# Generate a mask for the upper triangle\u001b[0m\u001b[1;33m\u001b[0m\u001b[1;33m\u001b[0m\u001b[0m\n",
      "\u001b[1;31mAttributeError\u001b[0m: 'dataset_setup' object has no attribute 'corr'"
     ],
     "output_type": "error"
    }
   ],
   "source": [
    "import seaborn as sns\n",
    "import matplotlib.pyplot as plt\n",
    "%matplotlib inline\n",
    "sns.set(style=\"white\")\n",
    "\n",
    "# Generate a large random dataset\n",
    "\n",
    "\n",
    "# Compute the correlation matrix\n",
    "corr = dataset.corr()\n",
    "\n",
    "# Generate a mask for the upper triangle\n",
    "mask = np.zeros_like(corr, dtype=np.bool)\n",
    "mask[np.triu_indices_from(mask)] = True\n",
    "\n",
    "# Set up the matplotlib figure\n",
    "f, ax = plt.subplots(figsize=(11, 9))\n",
    "\n",
    "# Generate a custom diverging colormap\n",
    "cmap = sns.diverging_palette(220, 10, as_cmap=True)\n",
    "\n",
    "# Draw the heatmap with the mask and correct aspect ratio\n",
    "sns.heatmap(corr, mask=mask, cmap=cmap, vmax=.3, center=0,\n",
    "            square=True, linewidths=.5, cbar_kws={\"shrink\": .5})\n",
    "\n",
    "\n",
    "\n",
    "\n",
    "print(\" 1) Some of the featues do not deliver major information\\n\") \n",
    "print(\" 2) The feature type is usefull, it contains just one value (4)\\n\")\n",
    "print(\" 3) Pos/2 is not correlated to any feature and it does not change along the samples it is always close to one value\\n \")\n",
    "print(\" 4) I can not ensure if there is a correlation between the feature class and the rest ot the features \\n\")\n",
    "print(\" 5) Dataset not well balanced clas1 = \", np.count_nonzero(dataset.classs==0), \"class2 =\",np.count_nonzero(dataset.classs==1))"
   ]
  },
  {
   "cell_type": "code",
   "execution_count": 11,
   "metadata": {},
   "outputs": [
    {
     "name": "stdout",
     "output_type": "stream",
     "text": [
      "Training samples  (3043, 10) \n",
      "Validation samples (320, 10) \n",
      "Testing samples (659, 10)\n"
     ]
    },
    {
     "name": "stderr",
     "output_type": "stream",
     "text": [
      "C:\\Users\\Maturrin\\Anaconda3\\lib\\site-packages\\tensorflow\\python\\client\\session.py:1702: UserWarning: An interactive session is already active. This can cause out-of-memory errors in some cases. You must explicitly call `InteractiveSession.close()` to release resources held by the other session(s).\n",
      "  warnings.warn('An interactive session is already active. This can '\n"
     ]
    },
    {
     "name": "stdout",
     "output_type": "stream",
     "text": [
      "num_epochs n° 0 accuracy VALIDATION 0.8378687\n",
      "num_epochs n° 0 accuracy TESTING 0.8597561\n",
      "Loss  1302.7018\n",
      "Loss  22.404552\n",
      "num_epochs n° 100 accuracy VALIDATION 0.34006843\n",
      "num_epochs n° 100 accuracy TESTING 0.31134742\n",
      "Loss  42.848892\n",
      "Loss  16.13934\n",
      "num_epochs n° 200 accuracy VALIDATION 0.839987\n",
      "num_epochs n° 200 accuracy TESTING 0.8597561\n",
      "Loss  88.59337\n",
      "Loss  26.007027\n",
      "num_epochs n° 300 accuracy VALIDATION 0.8166857\n",
      "num_epochs n° 300 accuracy TESTING 0.8279484\n",
      "Loss  30.9599\n",
      "Loss  125.03969\n",
      "num_epochs n° 400 accuracy VALIDATION 0.84210527\n",
      "num_epochs n° 400 accuracy TESTING 0.8597561\n",
      "Loss  35.800903\n",
      "Loss  17.19749\n",
      "num_epochs n° 500 accuracy VALIDATION 0.8018576\n",
      "num_epochs n° 500 accuracy TESTING 0.82685155\n",
      "Loss  12.303603\n",
      "Loss  11.63763\n",
      "num_epochs n° 600 accuracy VALIDATION 0.63027537\n",
      "num_epochs n° 600 accuracy TESTING 0.6722003\n",
      "Loss  4.13377\n",
      "Loss  29.777328\n",
      "num_epochs n° 700 accuracy VALIDATION 0.84210527\n",
      "num_epochs n° 700 accuracy TESTING 0.8597561\n",
      "Loss  131.57169\n",
      "Loss  10.281744\n",
      "num_epochs n° 800 accuracy VALIDATION 0.84210527\n",
      "num_epochs n° 800 accuracy TESTING 0.8597561\n",
      "Loss  62.683266\n",
      "Loss  50.69429\n",
      "num_epochs n° 900 accuracy VALIDATION 0.79550266\n",
      "num_epochs n° 900 accuracy TESTING 0.81698024\n",
      "Loss  5.346167\n",
      "Loss  71.27939\n"
     ]
    }
   ],
   "source": [
    "import dataset_setup as ds\n",
    "import model_nn as model\n",
    "import tensorflow as tf\n",
    "\n",
    "tf.reset_default_graph()\n",
    "features= [ 'type', 'sender', 'messageID', 'pos/2','spd/0', 'spd/1', 'pos/2']\n",
    "targets= ['class']\n",
    "dataset = ds.dataset_setup(features,targets)\n",
    "dataset.input_data(\"balanced.csv\")\n",
    "new_model = model.model_nn( dataset, 1000, 128,0.001, [len(features),20,2])\n",
    "new_model.train()\n",
    "\n"
   ]
  },
  {
   "cell_type": "code",
   "execution_count": null,
   "metadata": {
    "collapsed": true
   },
   "outputs": [],
   "source": []
  },
  {
   "cell_type": "code",
   "execution_count": null,
   "metadata": {
    "collapsed": true
   },
   "outputs": [],
   "source": []
  }
 ],
 "metadata": {
  "kernelspec": {
   "display_name": "Python 3",
   "language": "python",
   "name": "python3"
  },
  "language_info": {
   "codemirror_mode": {
    "name": "ipython",
    "version": 3
   },
   "file_extension": ".py",
   "mimetype": "text/x-python",
   "name": "python",
   "nbconvert_exporter": "python",
   "pygments_lexer": "ipython3",
   "version": "3.6.4"
  }
 },
 "nbformat": 4,
 "nbformat_minor": 2
}
